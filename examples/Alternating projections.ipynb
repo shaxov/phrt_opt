{
 "cells": [
  {
   "cell_type": "code",
   "execution_count": 2,
   "id": "32724d40",
   "metadata": {},
   "outputs": [],
   "source": [
    "import phrt_opt\n",
    "import numpy as np"
   ]
  },
  {
   "cell_type": "code",
   "execution_count": 22,
   "id": "d972878a",
   "metadata": {},
   "outputs": [],
   "source": [
    "num_beams = 10\n",
    "num_measurements = 100\n",
    "\n",
    "x = np.exp(1j * np.random.uniform(-np.pi, np.pi, size=(num_beams, 1)))\n",
    "tm = np.random.randn(num_measurements, num_beams) + 1j * np.random.randn(num_measurements, num_beams)\n",
    "b = np.abs(tm.dot(x))"
   ]
  },
  {
   "cell_type": "code",
   "execution_count": 23,
   "id": "cdba343d",
   "metadata": {},
   "outputs": [],
   "source": [
    "x_hat = phrt_opt.methods.alternating_projections(tm, b)"
   ]
  },
  {
   "cell_type": "code",
   "execution_count": 24,
   "id": "f6146cd9",
   "metadata": {},
   "outputs": [
    {
     "data": {
      "text/plain": [
       "9.754236895975765e-08"
      ]
     },
     "execution_count": 24,
     "metadata": {},
     "output_type": "execute_result"
    }
   ],
   "source": [
    "phrt_opt.metrics.quality_norm(x, x_hat)"
   ]
  },
  {
   "cell_type": "code",
   "execution_count": 25,
   "id": "24f87e20",
   "metadata": {},
   "outputs": [
    {
     "data": {
      "text/plain": [
       "0.002054273590340441"
      ]
     },
     "execution_count": 25,
     "metadata": {},
     "output_type": "execute_result"
    }
   ],
   "source": [
    "phrt_opt.metrics.projection(x, x_hat)"
   ]
  }
 ],
 "metadata": {
  "kernelspec": {
   "display_name": "Python 3",
   "language": "python",
   "name": "python3"
  },
  "language_info": {
   "codemirror_mode": {
    "name": "ipython",
    "version": 3
   },
   "file_extension": ".py",
   "mimetype": "text/x-python",
   "name": "python",
   "nbconvert_exporter": "python",
   "pygments_lexer": "ipython3",
   "version": "3.6.9"
  }
 },
 "nbformat": 4,
 "nbformat_minor": 5
}
